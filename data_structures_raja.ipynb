{
  "nbformat": 4,
  "nbformat_minor": 0,
  "metadata": {
    "colab": {
      "provenance": []
    },
    "kernelspec": {
      "name": "python3",
      "display_name": "Python 3"
    },
    "language_info": {
      "name": "python"
    }
  },
  "cells": [
    {
      "cell_type": "markdown",
      "source": [
        "#Data Types and Structures"
      ],
      "metadata": {
        "id": "S6URSvgxsKIf"
      }
    },
    {
      "cell_type": "markdown",
      "source": [
        "1.What are data structures, and why are they important?\n",
        ">A data structure is a way of formatting data so that it can be used by a computer program or other system.It is a way to store and perform various operations on computer data. A data structure is an effective technique to arrange data in a computer."
      ],
      "metadata": {
        "id": "K4loJt18snwE"
      }
    },
    {
      "cell_type": "markdown",
      "source": [
        "2.Explain the difference between mutable and immutable data types with examples\n",
        "\n",
        "  Ans. Mutable data types can be changed after creation. We can add, remove, or update elements\n",
        "    Examples include lists, dictionaries, and sets.\n",
        "\n",
        "  Immutable data types cannot be changed after creation neither modified directly.\n",
        "  examples:- String. tuples\n"
      ],
      "metadata": {
        "id": "PiMflG_7tkGK"
      }
    },
    {
      "cell_type": "markdown",
      "source": [
        "3. What are the main differences between lists and tuples in Python?\n",
        "\n",
        "  Lists: Mutable, meaning you can change their contents after creation (add, remove, or modify elements)\n",
        "  Tuples: Immutable, meaning their contents cannot be changed after creation.\n",
        "\n",
        "  Lists: Defined using square brackets [].\n",
        "  Tuples: Defined using parentheses ().\n",
        "\n",
        "  Lists: Consume more memory due to flexibility.\n",
        "  Tuples: Consume less memory due to immutability."
      ],
      "metadata": {
        "id": "_QlJuv7NuVjf"
      }
    },
    {
      "cell_type": "markdown",
      "source": [
        "4.Describe how dictionaries store data?\n",
        "  \n",
        ">>  Dictionaries in Python store data as key-value pairs. Think of it like a real-world dictionary where you look up a word (the key) to find its definition (the value)."
      ],
      "metadata": {
        "id": "FOnGF-2wvII3"
      }
    },
    {
      "cell_type": "markdown",
      "source": [
        "5.Why might you use a set instead of a list in Python1?\n",
        "\n",
        "  1.Removing duplicates\n",
        "  2.Membership testing\n",
        "  3.Set operations"
      ],
      "metadata": {
        "id": "XetG3SIwvfw4"
      }
    },
    {
      "cell_type": "markdown",
      "source": [
        "6.What is a string in Python, and how is it different from a list?\n",
        "\n",
        "  In Python, a string is a sequence of characters.  It's one of the fundamental data types used to represent text.  Think of it as a series of letters, numbers, symbols, and spaces strung together.\n",
        "  string is immutable whereas list is not.Strings are designed specifically for representing and working with text, while lists are more general-purpose and can store collections of various data types."
      ],
      "metadata": {
        "id": "I0NqlhlyywZm"
      }
    },
    {
      "cell_type": "markdown",
      "source": [
        "7.How do tuples ensure data integrity in Python ?\n",
        "\n",
        "  Tuples in Python ensure data integrity primarily through their immutability.\n",
        "  Immutability Ensures Data Integrity through Accidental Modification Prevention, Data Consistency and Thread Safety"
      ],
      "metadata": {
        "id": "nD1MLYGg2A3i"
      }
    },
    {
      "cell_type": "markdown",
      "source": [
        "8.What is a hash table, and how does it relate to dictionaries in Python?\n",
        "\n",
        "  Hash tables are a data structure that uses a hash function to map keys to storage locations, enabling fast data retrieval.Python dictionaries are built on top of hash tables, which explains their efficiency in storing and accessing data\n",
        "  \n",
        "  Python dictionaries are implemented using hash tables!\n",
        "\n",
        "Keys as Identifiers: In a dictionary, the keys serve as the unique identifiers for the values.\n",
        "Hash Function in Action: When you store a key-value pair in a dictionary, Python uses a hash function to calculate the index where that pair should be stored.\n",
        "Fast Access: This allows Python to quickly retrieve values when you look them up using their keys, because it can directly calculate the storage location using the hash function."
      ],
      "metadata": {
        "id": "pSmKSXur39Ny"
      }
    },
    {
      "cell_type": "markdown",
      "source": [
        "9.Can lists contain different data types in Python?\n",
        "\n",
        "  Yes,Lists in Python are incredibly flexible and can contain elements of different data types within the same list.  This is one of the features that makes them so useful."
      ],
      "metadata": {
        "id": "7Kz-S_NW4YsK"
      }
    },
    {
      "cell_type": "markdown",
      "source": [
        "10.Explain why strings are immutable in Python?\n",
        "\n",
        "  Strings in Python are immutable primarily for reasons related to performance, memory efficiency, and thread safety."
      ],
      "metadata": {
        "id": "kYebUb5545xq"
      }
    },
    {
      "cell_type": "markdown",
      "source": [
        "11.What advantages do dictionaries offer over lists for certain tasks?\n",
        "\n",
        "  1.Dictionaries are used to  quickly retrieve data based on a key.\n",
        "  2.When you need to ensure uniqueness among items (e.g., storing unique usernames).\n",
        "  3.When you want to improve code readability and organization by clearly associating keys with values.\n",
        "  4.List Allows duplicate elements where as Dictionarie Enforce uniqueness among keys.\n"
      ],
      "metadata": {
        "id": "jTKYTEks5clM"
      }
    },
    {
      "cell_type": "markdown",
      "source": [
        "12.Describe a scenario where using a tuple would be preferable over a list?\n",
        "\n",
        "  Geographic coordinates (latitude, longitude) are a perfect example. They represent a fixed pair of values that shouldn't change.\n",
        "\n",
        "  A date (year, month, day) or a time (hour, minute, second) can be effectively represented as a tuple."
      ],
      "metadata": {
        "id": "T7_YmT__6N_F"
      }
    },
    {
      "cell_type": "markdown",
      "source": [
        "13.How do sets handle duplicate values in Python?\n",
        "\n",
        "  Sets in Python are designed to store only unique elements. When you attempt to add a duplicate value to a set, the set simply ignores the addition; it doesn't raise an error, and the set remains unchanged.\n",
        "\n",
        "  my_set = {1, 2, 3}\n",
        "\n",
        "  my_set.add(2)  # Trying to add a duplicate\n",
        "\n",
        "  print(my_set)  # Output: {1, 2, 3}  The set remains unchanged\n",
        "\n",
        "  my_set.add(4)  # Adding a new, unique element\n",
        "\n",
        "  print(my_set)  # Output: {1, 2, 3, 4}  The set is updated"
      ],
      "metadata": {
        "id": "e-JggFZ57Hku"
      }
    },
    {
      "cell_type": "markdown",
      "source": [
        "14.How does the “in” keyword work differently for lists and dictionaries?\n",
        "\n",
        "  The in keyword behaves quite differently for lists and dictionaries, mainly due to how these data structures are implemented.\n",
        "\n",
        "  When you use in with a list:\n",
        "  my_list = [10, 20, 30, 40]\n",
        "  if 20 in my_list:\n",
        "    print(\"20 is in the list\")\n",
        "\n",
        "  my_dict = {\"a\": 1, \"b\": 2, \"c\": 3}\n",
        "  if \"b\" in my_dict:\n",
        "    print(\"Key 'b' is in the dictionary\")\n",
        "\n",
        "Python can directly compute the hash of the key you're looking for and use that to quickly locate the key (and its associated value) within the dictionary. This is incredibly efficient, regardless of the dictionary's size."
      ],
      "metadata": {
        "id": "rZp9iD2E8GW3"
      }
    },
    {
      "cell_type": "markdown",
      "source": [
        "15.Can you modify the elements of a tuple? Explain why or why not.\n",
        "\n",
        "  No, you cannot directly modify the elements of a tuple in Python. Tuples are immutable, which means that once a tuple is created, its contents cannot be changed.  You cannot:\n",
        "\n",
        "  Why are tuples immutable?\n",
        "\n",
        "Immutability is a deliberate design choice that provides several benefits:\n",
        "\n",
        "Data Integrity: Immutability ensures that the data in a tuple remains consistent and unchanged. This is crucial when you want to represent data that should not be altered, such as coordinates, database records, or configuration settings.\n",
        "\n",
        "Thread Safety: In multi-threaded programs, where multiple threads might access the same data, immutability makes tuples inherently thread-safe. Since the data cannot be modified, there's no risk of race conditions or data corruption that can occur when multiple threads try to modify the same data simultaneously.\n",
        "\n",
        "Hashability (for use in dictionaries and sets): Immutable objects can have a hash value that remains constant throughout their lifetime. This is essential for using tuples as keys in dictionaries or elements in sets.  If tuples were mutable, their hash values could change, which would break the functionality of dictionaries and sets.\n",
        "\n",
        "Performance: Immutability allows Python to perform certain optimizations related to memory management and object sharing."
      ],
      "metadata": {
        "id": "N2Hxohvz8xN-"
      }
    },
    {
      "cell_type": "markdown",
      "source": [
        "16.What is a nested dictionary, and give an example of its use case?\n",
        "\n",
        "  A nested dictionary is a dictionary where the values associated with some or all of the keys are themselves dictionaries.  Think of it as a dictionary within a dictionary.  It's a way to represent hierarchical or structured data.\n",
        "\n",
        "  myfamily = {\n",
        "  \"child1\" : {\n",
        "    \"name\" : \"Emil\",\n",
        "    \"year\" : 2004\n",
        "  },\n",
        "  \"child2\" : {\n",
        "    \"name\" : \"Tobias\",\n",
        "    \"year\" : 2007\n",
        "  },\n",
        "  \"child3\" : {\n",
        "    \"name\" : \"Linus\",\n",
        "    \"year\" : 2011\n",
        "  }\n",
        "}\n",
        "\n",
        "print(myfamily)\n",
        "\n",
        "{'child1': {'name': 'Emil', 'year': 2004}, 'child2': {'name': 'Tobias', 'year': 2007}, 'child3': {'name': 'Linus', 'year': 2011}}"
      ],
      "metadata": {
        "id": "iXJNY9SF9S9I"
      }
    },
    {
      "cell_type": "markdown",
      "source": [
        "17.Describe the time complexity of accessing elements in a dictionary?\n",
        "\n",
        "  he time complexity of accessing elements in a Python dictionary (using the key) is, on average, constant time, O(1).\n",
        "\n",
        "  Hash Tables: Dictionaries are implemented using hash tables. A hash table is a data structure that uses a hash function to map keys to their corresponding values.\n",
        "\n",
        "  Hash Function: When you access an element using its key (e.g., my_dict[\"key\"]), Python calculates the hash value of the key. This hash value is then used to quickly locate the key-value pair within the hash table.\n",
        "\n",
        "  Direct Access: Because of the hash function, Python can, on average, directly access the location where the key-value pair is stored. It doesn't need to search through the entire dictionary."
      ],
      "metadata": {
        "id": "QAw-f1GA-ZJ5"
      }
    },
    {
      "cell_type": "markdown",
      "source": [
        "18.In what situations are lists preferred over dictionaries?\n",
        "\n",
        "   Ordered Collections Where Order Matters\n",
        "   When You Need Duplicate Elements\n",
        "   Simple Iteration\n",
        "   When Indices Are Important\n",
        "   When Memory Usage Is a Primary Concern\n",
        "   When You Need Mutable Sequences"
      ],
      "metadata": {
        "id": "fc1X_1mU-tcZ"
      }
    },
    {
      "cell_type": "markdown",
      "source": [
        "19.Why are dictionaries considered unordered, and how does that affect data retrieval?\n",
        "\n",
        "  Dictionary term as an unordered collection of object because in dictionary we can use any type of data types . but in key datatype should be immutable type.\n",
        "\n",
        "  How Unorderedness Affected Data Retrieval (Before Python 3.7):\n",
        "\n",
        "No Reliance on Order: You could not rely on the order of elements when iterating through a dictionary. The order could be different each time you ran your code.\n",
        "No Indexing: You could not access elements by index (like my_dict). Dictionaries are designed for key-based access (my_dict[\"key\"])."
      ],
      "metadata": {
        "id": "KZjzGnxg_MET"
      }
    },
    {
      "cell_type": "markdown",
      "source": [
        "20.Explain the difference between a list and a dictionary in terms of data retrieval?\n",
        "\n",
        "  In List we access by Index and in dictionaries we access by Key"
      ],
      "metadata": {
        "id": "olY1MliFAPPB"
      }
    },
    {
      "cell_type": "markdown",
      "source": [
        "#**Coding** **Question**\n"
      ],
      "metadata": {
        "id": "OTfmcIYM9rEa"
      }
    },
    {
      "cell_type": "markdown",
      "source": [
        "Write a code to create a string with your name and print it"
      ],
      "metadata": {
        "id": "DWuRdMeoDigy"
      }
    },
    {
      "cell_type": "code",
      "source": [
        "my_name = \"Raja Mondal\"\n",
        "print(my_name)"
      ],
      "metadata": {
        "colab": {
          "base_uri": "https://localhost:8080/"
        },
        "id": "CtYJLjRaDkpe",
        "outputId": "dd5d7e93-69a6-4638-f946-b5d3d3894944"
      },
      "execution_count": 1,
      "outputs": [
        {
          "output_type": "stream",
          "name": "stdout",
          "text": [
            "Raja Mondal\n"
          ]
        }
      ]
    },
    {
      "cell_type": "markdown",
      "source": [
        "Write a code to find the length of the string \"Hello World\""
      ],
      "metadata": {
        "id": "c01TCp6mA1h5"
      }
    },
    {
      "cell_type": "code",
      "execution_count": null,
      "metadata": {
        "id": "RUCG3W38rxnB"
      },
      "outputs": [],
      "source": [
        "my_string = \"Hello World\"\n",
        "string_length = len(my_string)\n",
        "print(string_length)"
      ]
    },
    {
      "cell_type": "markdown",
      "source": [
        "Write a code to slice the first 3 characters from the string \"Python Programming\""
      ],
      "metadata": {
        "id": "dmmJQzjo6NWC"
      }
    },
    {
      "cell_type": "code",
      "source": [
        "my_string = \"Python Programming\"\n",
        "sliced_string = my_string[:3]\n",
        "print(sliced_string)"
      ],
      "metadata": {
        "id": "N4clR3zUD5jX"
      },
      "execution_count": null,
      "outputs": []
    },
    {
      "cell_type": "markdown",
      "source": [
        "Write a code to convert the string \"hello\" to uppercase"
      ],
      "metadata": {
        "id": "JUQxdJ6usH5j"
      }
    },
    {
      "cell_type": "code",
      "source": [
        "my_string = \"hello\"\n",
        "uppercase_string = my_string.upper()\n",
        "print(uppercase_string)\n",
        "# Output: HELLO"
      ],
      "metadata": {
        "id": "O6b5MBRlEAba"
      },
      "execution_count": null,
      "outputs": []
    },
    {
      "cell_type": "markdown",
      "source": [
        "Write a code to replace the word \"apple\" with \"orange\" in the string \"I like apple\""
      ],
      "metadata": {
        "id": "yQWyuciNEF39"
      }
    },
    {
      "cell_type": "code",
      "source": [
        "my_string = \"I will buy apple\"\n",
        "new_string = my_string.replace(\"apple\", \"orange\")\n",
        "print(new_string)\n",
        "# Output: I like orange"
      ],
      "metadata": {
        "id": "XOll0q9RELN9"
      },
      "execution_count": null,
      "outputs": []
    },
    {
      "cell_type": "markdown",
      "source": [
        "Write a code to create a list with numbers 1 to 5 and print it"
      ],
      "metadata": {
        "id": "Rgrph-uqEP21"
      }
    },
    {
      "cell_type": "code",
      "source": [
        "my_list = [i for i in range(1, 6)]\n",
        "print(my_list)\n",
        "# Output: [1, 2, 3, 4, 5]"
      ],
      "metadata": {
        "id": "23oYKcRLEW_H"
      },
      "execution_count": null,
      "outputs": []
    },
    {
      "cell_type": "markdown",
      "source": [
        "Write a code to append the number 10 to the list [1, 2, 3, 4]"
      ],
      "metadata": {
        "id": "AdUSwPwbEaDx"
      }
    },
    {
      "cell_type": "code",
      "source": [
        "my_list = [1, 2, 3, 4]\n",
        "my_list.append(10)\n",
        "print(my_list)\n",
        "# Output: [1, 2, 3, 4, 10]"
      ],
      "metadata": {
        "colab": {
          "base_uri": "https://localhost:8080/"
        },
        "id": "VgVQIwSiEc-D",
        "outputId": "ffd926a1-6a8b-405d-cdfd-6906c0f9b381"
      },
      "execution_count": 2,
      "outputs": [
        {
          "output_type": "stream",
          "name": "stdout",
          "text": [
            "[1, 2, 3, 4, 10]\n"
          ]
        }
      ]
    },
    {
      "cell_type": "markdown",
      "source": [
        "Write a code to remove the number 3 from the list [1, 2, 3, 4, 5]"
      ],
      "metadata": {
        "id": "YEX1MDaoEjwf"
      }
    },
    {
      "cell_type": "code",
      "source": [
        "my_list.remove(3)\n",
        "print(my_list)\n",
        "# Output: [1, 2, 4, 5]"
      ],
      "metadata": {
        "id": "I2uV0KrWEkeE"
      },
      "execution_count": null,
      "outputs": []
    },
    {
      "cell_type": "markdown",
      "source": [
        "Write a code to access the second element in the list ['a', 'b', 'c', 'd']"
      ],
      "metadata": {
        "id": "Q0UfE-6WEqXr"
      }
    },
    {
      "cell_type": "code",
      "source": [
        "my_list = ['a', 'b', 'c', 'd']\n",
        "second_element = my_list[1]\n",
        "print(second_element)\n",
        "# Output: b"
      ],
      "metadata": {
        "colab": {
          "base_uri": "https://localhost:8080/"
        },
        "id": "Gggri9bfEtdr",
        "outputId": "76c75085-4230-4453-db0c-475fa39278d7"
      },
      "execution_count": 3,
      "outputs": [
        {
          "output_type": "stream",
          "name": "stdout",
          "text": [
            "b\n"
          ]
        }
      ]
    },
    {
      "cell_type": "markdown",
      "source": [
        "Write a code to reverse the list [10, 20, 30, 40, 50]."
      ],
      "metadata": {
        "id": "KnawMFOAExQ2"
      }
    },
    {
      "cell_type": "code",
      "source": [
        "my_list1= [10, 20, 30, 40, 50]\n",
        "my_list1.reverse()\n",
        "print(my_list1)\n",
        "# Output: [50, 40, 30, 20, 10]"
      ],
      "metadata": {
        "colab": {
          "base_uri": "https://localhost:8080/"
        },
        "id": "O_EH40R4EzzI",
        "outputId": "981dabfa-655e-4919-ca91-c3dc35b9b31e"
      },
      "execution_count": 5,
      "outputs": [
        {
          "output_type": "stream",
          "name": "stdout",
          "text": [
            "[50, 40, 30, 20, 10]\n"
          ]
        }
      ]
    },
    {
      "cell_type": "markdown",
      "source": [
        "Write a code to create a tuple with the elements 100, 200, 300 and print it."
      ],
      "metadata": {
        "id": "uMJrWh46Fgex"
      }
    },
    {
      "cell_type": "code",
      "source": [
        "my_tuple = (100, 200, 300)\n",
        "print(my_tuple)\n",
        " # Output: (100, 200, 300)"
      ],
      "metadata": {
        "colab": {
          "base_uri": "https://localhost:8080/"
        },
        "id": "g8m3cUDjFlmJ",
        "outputId": "8dde0af9-5eed-4a28-e196-156b7280df61"
      },
      "execution_count": 6,
      "outputs": [
        {
          "output_type": "stream",
          "name": "stdout",
          "text": [
            "(100, 200, 300)\n"
          ]
        }
      ]
    },
    {
      "cell_type": "markdown",
      "source": [
        "Write a code to access the second-to-last element of the tuple ('red', 'green', 'blue', 'yellow')"
      ],
      "metadata": {
        "id": "5N9KccrQFo9a"
      }
    },
    {
      "cell_type": "code",
      "source": [
        "my_tuple = ('red', 'green', 'blue', 'yellow')\n",
        "second_to_last_element = my_tuple[-2]\n",
        "print(second_to_last_element)\n",
        "# Output: blue"
      ],
      "metadata": {
        "colab": {
          "base_uri": "https://localhost:8080/"
        },
        "id": "FHDTITTUFspL",
        "outputId": "ccc93fe0-6b01-4d37-8752-74cebbef2d4a"
      },
      "execution_count": 7,
      "outputs": [
        {
          "output_type": "stream",
          "name": "stdout",
          "text": [
            "blue\n"
          ]
        }
      ]
    },
    {
      "cell_type": "markdown",
      "source": [
        "Write a code to find the minimum number in the tuple (10, 20, 5, 15)."
      ],
      "metadata": {
        "id": "yh8XgMBqFy04"
      }
    },
    {
      "cell_type": "code",
      "source": [
        "my_tuple = (10, 20, 5, 15)\n",
        "min_number = min(my_tuple)\n",
        "print(f\"The minimum number in the tuple is: {min_number}\")"
      ],
      "metadata": {
        "colab": {
          "base_uri": "https://localhost:8080/"
        },
        "id": "CKHGhxEXF2YF",
        "outputId": "cfbf7232-1ad0-4874-8ba4-5b2ca6791d01"
      },
      "execution_count": 9,
      "outputs": [
        {
          "output_type": "stream",
          "name": "stdout",
          "text": [
            "The minimum number in the tuple is: 5\n"
          ]
        }
      ]
    },
    {
      "cell_type": "markdown",
      "source": [
        "Write a code to find the index of the element \"cat\" in the tuple ('dog', 'cat', 'rabbit')."
      ],
      "metadata": {
        "id": "2yT4w983GgLK"
      }
    },
    {
      "cell_type": "code",
      "source": [
        "my_tuple = ('dog', 'cat', 'rabbit')\n",
        "index_of_cat = my_tuple.index('cat')\n",
        "print(index_of_cat)\n",
        "# Output: 1"
      ],
      "metadata": {
        "colab": {
          "base_uri": "https://localhost:8080/"
        },
        "id": "jHuX77unGjIe",
        "outputId": "fab7e542-0b87-4eee-ca09-72caa2f15f23"
      },
      "execution_count": 10,
      "outputs": [
        {
          "output_type": "stream",
          "name": "stdout",
          "text": [
            "1\n"
          ]
        }
      ]
    },
    {
      "cell_type": "markdown",
      "source": [
        "Write a code to create a tuple containing three different fruits and check if \"kiwi\" is in it"
      ],
      "metadata": {
        "id": "WKK1VbdXGqcf"
      }
    },
    {
      "cell_type": "code",
      "source": [
        "tuple = (\"apple\",\"mango\",\"kiwi\")\n",
        "if \"kiwi\" in tuple:\n",
        "     print(\"kiwi is in tuple\")\n"
      ],
      "metadata": {
        "colab": {
          "base_uri": "https://localhost:8080/"
        },
        "id": "WFnedTpCGtUj",
        "outputId": "04ec0ec2-ec26-4b53-d5f7-6faa459f8d8e"
      },
      "execution_count": 11,
      "outputs": [
        {
          "output_type": "stream",
          "name": "stdout",
          "text": [
            "kiwi is in tuple\n"
          ]
        }
      ]
    },
    {
      "cell_type": "markdown",
      "source": [
        "Write a code to create a set with the elements 'a', 'b', 'c' and print it."
      ],
      "metadata": {
        "id": "yWAmWzFUGxeJ"
      }
    },
    {
      "cell_type": "code",
      "source": [
        "my_set = {'a', 'b', 'c'}\n",
        "\n",
        "# Print the set\n",
        "print(my_set)"
      ],
      "metadata": {
        "id": "NG9hExKzG3Gh"
      },
      "execution_count": null,
      "outputs": []
    },
    {
      "cell_type": "markdown",
      "source": [
        "Write a code to clear all elements from the set {1, 2, 3, 4, 5}"
      ],
      "metadata": {
        "id": "5BHnB25sG4As"
      }
    },
    {
      "cell_type": "code",
      "source": [
        "my_set = {1, 2, 3, 4, 5}\n",
        "my_set.clear()\n",
        "print(my_set)\n",
        "#"
      ],
      "metadata": {
        "colab": {
          "base_uri": "https://localhost:8080/"
        },
        "id": "bkUYH4OMG6zE",
        "outputId": "a06bf594-b633-4bd4-fd36-35950be892b4"
      },
      "execution_count": 12,
      "outputs": [
        {
          "output_type": "stream",
          "name": "stdout",
          "text": [
            "set()\n"
          ]
        }
      ]
    },
    {
      "cell_type": "markdown",
      "source": [
        "Write a code to remove the element 4 from the set {1, 2, 3, 4}"
      ],
      "metadata": {
        "id": "TfNOrIcEHDjO"
      }
    },
    {
      "cell_type": "code",
      "source": [
        "my_set={1, 2, 3, 4}\n",
        "my_set.remove(4)\n",
        "print(my_set)\n",
        "#"
      ],
      "metadata": {
        "id": "TGJzjgEOHHMC"
      },
      "execution_count": null,
      "outputs": []
    },
    {
      "cell_type": "markdown",
      "source": [
        "Write a code to find the union of two sets {1, 2, 3} and {3, 4, 5}"
      ],
      "metadata": {
        "id": "Ssnn1uu-HNpc"
      }
    },
    {
      "cell_type": "code",
      "source": [
        "my_set1 = {1, 2, 3}\n",
        "my_set2 = {3, 4, 5}\n",
        "union_set = my_set1.union(my_set2)\n",
        "print(union_set)\n",
        "#"
      ],
      "metadata": {
        "id": "cno0DBKLHSxP"
      },
      "execution_count": null,
      "outputs": []
    },
    {
      "cell_type": "markdown",
      "source": [
        "Write a code to find the intersection of two sets {1, 2, 3} and {2, 3, 4}"
      ],
      "metadata": {
        "id": "BdLeoXx6HtS1"
      }
    },
    {
      "cell_type": "code",
      "source": [
        "my_set1 = {1, 2, 3}\n",
        "my_set2 = {2, 3, 4}\n",
        "intersection_set = my_set1.intersection(my_set2)\n",
        "print(intersection_set)\n",
        "#"
      ],
      "metadata": {
        "colab": {
          "base_uri": "https://localhost:8080/"
        },
        "id": "xEpkf48YHuQ9",
        "outputId": "182a1845-d2e2-4d55-a068-26f8bc661dba"
      },
      "execution_count": 13,
      "outputs": [
        {
          "output_type": "stream",
          "name": "stdout",
          "text": [
            "{2, 3}\n"
          ]
        }
      ]
    },
    {
      "cell_type": "markdown",
      "source": [
        "Write a code to create a dictionary with the keys \"name\", \"age\", and \"city\", and print it"
      ],
      "metadata": {
        "id": "np3hogEDHytv"
      }
    },
    {
      "cell_type": "code",
      "source": [
        "my_dict = {\"name\": \"John\", \"age\": 30, \"city\": \"New York\"}\n",
        "print(my_dict)\n",
        "#"
      ],
      "metadata": {
        "id": "_hW8BIq-H147"
      },
      "execution_count": null,
      "outputs": []
    },
    {
      "cell_type": "markdown",
      "source": [
        "Write a code to add a new key-value pair \"country\": \"USA\" to the dictionary {'name': 'John', 'age': 25}"
      ],
      "metadata": {
        "id": "IlTLrumcIJbA"
      }
    },
    {
      "cell_type": "code",
      "source": [
        "my_dict = {'name': 'John', 'age': 25}\n",
        "my_dict['country'] = 'USA'\n",
        "print(my_dict)\n",
        "#"
      ],
      "metadata": {
        "id": "VnuJc9YvIPru"
      },
      "execution_count": null,
      "outputs": []
    },
    {
      "cell_type": "markdown",
      "source": [
        "Write a code to access the value associated with the key \"name\" in the dictionary {'name': 'Alice', 'age': 30}"
      ],
      "metadata": {
        "id": "dwZbFXjrITQM"
      }
    },
    {
      "cell_type": "code",
      "source": [
        "name = my_dict['name']\n",
        "print(name)\n",
        "# Output: Alice"
      ],
      "metadata": {
        "id": "tP8UJOGPIWBB"
      },
      "execution_count": null,
      "outputs": []
    },
    {
      "cell_type": "markdown",
      "source": [
        "Write a code to remove the key \"age\" from the dictionary {'name': 'Bob', 'age': 22, 'city': 'New York'}"
      ],
      "metadata": {
        "id": "3XHHymi9IYw3"
      }
    },
    {
      "cell_type": "code",
      "source": [
        "my_dict = {'name': 'Bob', 'age': 22, 'city': 'New York'}\n",
        "del my_dict['age']\n",
        "print(my_dict)\n",
        "#"
      ],
      "metadata": {
        "id": "H3D1cHMLIcCj"
      },
      "execution_count": null,
      "outputs": []
    },
    {
      "cell_type": "markdown",
      "source": [
        "Write a code to check if the key \"city\" exists in the dictionary {'name': 'Alice', 'city': 'Paris'}"
      ],
      "metadata": {
        "id": "w5EPRSOMIjHh"
      }
    },
    {
      "cell_type": "code",
      "source": [
        "my_dict = {'name': 'Alice', 'city': 'Paris'}\n",
        "if 'city' in my_dict:\n",
        "    print(\"The key 'city' exists in the dictionary.\")\n",
        "else:\n",
        "    print(\"The key 'city' does not exist in the dictionary.\")\n",
        "#"
      ],
      "metadata": {
        "id": "kiXywH6SIoEQ"
      },
      "execution_count": null,
      "outputs": []
    },
    {
      "cell_type": "markdown",
      "source": [
        "Write a code to create a list, a tuple, and a dictionary, and print them all."
      ],
      "metadata": {
        "id": "f8h0hQCZIrpB"
      }
    },
    {
      "cell_type": "code",
      "source": [
        " #Create a list\n",
        "my_list = [1, 2, 3, \"apple\", 3.14]\n",
        "\n",
        "# Create a tuple\n",
        "my_tuple = (10, 20, 30, \"banana\", 6.28)\n",
        "\n",
        "# Create a dictionary\n",
        "my_dict = {\"name\": \"Alice\", \"age\": 25, \"city\": \"New York\"}\n",
        "\n",
        "# Print the list\n",
        "print(\"List:\", my_list)\n",
        "\n",
        "# Print the tuple\n",
        "print(\"Tuple:\", my_tuple)\n",
        "\n",
        "# Print the dictionary\n",
        "print(\"Dictionary:\", my_dict)"
      ],
      "metadata": {
        "colab": {
          "base_uri": "https://localhost:8080/"
        },
        "id": "ED-Oc0R0Iu0q",
        "outputId": "13d044fd-b7d1-4959-c654-482f6e5405ad"
      },
      "execution_count": 15,
      "outputs": [
        {
          "output_type": "stream",
          "name": "stdout",
          "text": [
            "List: [1, 2, 3, 'apple', 3.14]\n",
            "Tuple: (10, 20, 30, 'banana', 6.28)\n",
            "Dictionary: {'name': 'Alice', 'age': 25, 'city': 'New York'}\n"
          ]
        }
      ]
    },
    {
      "cell_type": "markdown",
      "source": [
        "Write a code to create a list of 5 random numbers between 1 and 100, sort it in ascending order, and print the result.(replaced)"
      ],
      "metadata": {
        "id": "TAfNijzUI42Y"
      }
    },
    {
      "cell_type": "code",
      "source": [
        "random_numbers = [random.randint(1, 100) for _ in range(5)]\n",
        "random_numbers.sort()\n",
        "print(\"Sorted List:\", random_numbers)\n",
        "#"
      ],
      "metadata": {
        "id": "mkVuekogI733"
      },
      "execution_count": null,
      "outputs": []
    },
    {
      "cell_type": "markdown",
      "source": [
        "Write a code to create a list with strings and print the element at the third index"
      ],
      "metadata": {
        "id": "hNZSD7_2I-8u"
      }
    },
    {
      "cell_type": "code",
      "source": [
        "my_list = [\"apple\", \"banana\", \"cherry\", \"date\", \"elderberry\"]\n",
        "print(my_list[2])\n",
        "#"
      ],
      "metadata": {
        "id": "G_e1RG2dJDLG"
      },
      "execution_count": null,
      "outputs": []
    },
    {
      "cell_type": "markdown",
      "source": [
        "Write a code to combine two dictionaries into one and print the result"
      ],
      "metadata": {
        "id": "erY4Dx20JOeP"
      }
    },
    {
      "cell_type": "code",
      "source": [
        "dict1 = {'a': 1, 'b': 2}\n",
        "dict2 = {'c': 3, 'd': 4}\n",
        "dict1.update(dict2)\n",
        "print(\"Combined dictionary (Method 1):\", dict1)"
      ],
      "metadata": {
        "id": "dQrb1wsmJqPd"
      },
      "execution_count": null,
      "outputs": []
    },
    {
      "cell_type": "markdown",
      "source": [
        "Write a code to convert a list of strings into a set"
      ],
      "metadata": {
        "id": "9kUb0c7FKCro"
      }
    },
    {
      "cell_type": "code",
      "source": [
        "my_list = [\"apple\", \"banana\", \"cherry\", \"date\", \"elderberry\"]\n",
        "my_set = set(my_list)\n",
        "print(\"Set from List:\", my_set)\n",
        "#"
      ],
      "metadata": {
        "colab": {
          "base_uri": "https://localhost:8080/"
        },
        "id": "eHy1minsKFYX",
        "outputId": "a64fddd6-fa3a-4b54-e0f9-28a950cd83a8"
      },
      "execution_count": 16,
      "outputs": [
        {
          "output_type": "stream",
          "name": "stdout",
          "text": [
            "Set from List: {'elderberry', 'apple', 'cherry', 'date', 'banana'}\n"
          ]
        }
      ]
    }
  ]
}